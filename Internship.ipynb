{
  "nbformat": 4,
  "nbformat_minor": 0,
  "metadata": {
    "colab": {
      "name": "Internship.ipynb",
      "provenance": []
    },
    "kernelspec": {
      "name": "python3",
      "display_name": "Python 3"
    }
  },
  "cells": [
    {
      "cell_type": "code",
      "metadata": {
        "colab": {
          "base_uri": "https://localhost:8080/",
          "height": 87
        },
        "id": "GIUYTsGi2sMC",
        "outputId": "664aa3c6-eb09-4585-9239-f39a77c3bf1f"
      },
      "source": [
        "\"\"\"\r\n",
        "VIRTUAL INTERNSHIP\r\n",
        "\r\n",
        "\r\n",
        "\r\n",
        "Internship Available on-\r\n",
        "\r\n",
        "1. Machine Learning\r\n",
        "\r\n",
        "2. IOT\r\n",
        "\r\n",
        "3. Data Science\r\n",
        "\r\n",
        "4. Cloud Computing\r\n",
        "\r\n",
        "5. Internet Security\r\n",
        "\r\n",
        "6. Hacking\r\n",
        "\r\n",
        "7. Web Development\r\n",
        "\r\n",
        "8. Cryptography\r\n",
        "\r\n",
        "Interns will get Internship Certificate, Prize and Perks.\r\n",
        "\r\n",
        "Rs. 3000 Stipend will also be given to Interns after completion of Internships !\r\n",
        "\r\n",
        "2-6 Weeks Internship are going on as per your preferences.\r\n",
        "\r\n",
        "Send your Resume, Queries or Question on vatshayan007@gmail.com for Internship.\r\n",
        "\"\"\"\r\n"
      ],
      "execution_count": 1,
      "outputs": [
        {
          "output_type": "execute_result",
          "data": {
            "application/vnd.google.colaboratory.intrinsic+json": {
              "type": "string"
            },
            "text/plain": [
              "'\\nVIRTUAL INTERNSHIP\\n\\n\\n\\nInternship Available on-\\n\\n1. Machine Learning\\n\\n2. IOT\\n\\n3. Data Science\\n\\n4. Cloud Computing\\n\\n5. Internet Security\\n\\n6. Hacking\\n\\n7. Web Development\\n\\n8. Cryptography\\n\\nInterns will get Internship Certificate, Prize and Perks.\\n\\nRs. 3000 Stipend will also be given to Interns after completion of Internships !\\n\\n2-6 Weeks Internship are going on as per your preferences.\\n\\nSend your Resume, Queries or Question on vatshayan007@gmail.com for Internship.\\n'"
            ]
          },
          "metadata": {
            "tags": []
          },
          "execution_count": 1
        }
      ]
    },
    {
      "cell_type": "markdown",
      "metadata": {
        "id": "Azw8cj8c3dff"
      },
      "source": [
        "Mail me your Resume or any Queries at **vatshayan007@gmail.com** Now!"
      ]
    },
    {
      "cell_type": "code",
      "metadata": {
        "id": "8aBaVVMS3XuW"
      },
      "source": [
        ""
      ],
      "execution_count": null,
      "outputs": []
    }
  ]
}